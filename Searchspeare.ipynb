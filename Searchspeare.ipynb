{
 "cells": [
  {
   "cell_type": "markdown",
   "metadata": {},
   "source": [
    "# Shakespeare Search Engine in 7 Lines of Code\n",
    "\n",
    "Okay, a few more than that because we need to load the plays and import dependencies.\n",
    "\n",
    "The idea is to create a hash table that relates searchable terms with their occurences in the document. This is an extremely fast method of search, but it does require building an index beforehand.\n",
    "\n",
    "**Import dependencies**"
   ]
  },
  {
   "cell_type": "code",
   "execution_count": 1,
   "metadata": {
    "collapsed": true
   },
   "outputs": [],
   "source": [
    "import pandas as pd\n",
    "from nltk.stem import PorterStemmer\n",
    "from nltk.tokenize import word_tokenize\n",
    "from collections import defaultdict"
   ]
  },
  {
   "cell_type": "markdown",
   "metadata": {},
   "source": [
    "#### Load the corpus\n",
    "The first task is to load Shakespeare into a data frame. I have pre-cleaned it, but it is available [here](https://www.kaggle.com/kingburrito666/shakespeare-plays)."
   ]
  },
  {
   "cell_type": "code",
   "execution_count": 2,
   "metadata": {},
   "outputs": [
    {
     "data": {
      "text/html": [
       "<div>\n",
       "<style scoped>\n",
       "    .dataframe tbody tr th:only-of-type {\n",
       "        vertical-align: middle;\n",
       "    }\n",
       "\n",
       "    .dataframe tbody tr th {\n",
       "        vertical-align: top;\n",
       "    }\n",
       "\n",
       "    .dataframe thead th {\n",
       "        text-align: right;\n",
       "    }\n",
       "</style>\n",
       "<table border=\"1\" class=\"dataframe\">\n",
       "  <thead>\n",
       "    <tr style=\"text-align: right;\">\n",
       "      <th></th>\n",
       "      <th>Play</th>\n",
       "      <th>Character</th>\n",
       "      <th>Act</th>\n",
       "      <th>Scene</th>\n",
       "      <th>Passage</th>\n",
       "      <th>Line_Num</th>\n",
       "      <th>Line</th>\n",
       "    </tr>\n",
       "  </thead>\n",
       "  <tbody>\n",
       "    <tr>\n",
       "      <th>0</th>\n",
       "      <td>Henry IV</td>\n",
       "      <td>KING HENRY IV</td>\n",
       "      <td>1</td>\n",
       "      <td>1</td>\n",
       "      <td>1</td>\n",
       "      <td>1</td>\n",
       "      <td>So shaken as we are, so wan with care,</td>\n",
       "    </tr>\n",
       "    <tr>\n",
       "      <th>1</th>\n",
       "      <td>Henry IV</td>\n",
       "      <td>KING HENRY IV</td>\n",
       "      <td>1</td>\n",
       "      <td>1</td>\n",
       "      <td>1</td>\n",
       "      <td>2</td>\n",
       "      <td>Find we a time for frighted peace to pant,</td>\n",
       "    </tr>\n",
       "    <tr>\n",
       "      <th>2</th>\n",
       "      <td>Henry IV</td>\n",
       "      <td>KING HENRY IV</td>\n",
       "      <td>1</td>\n",
       "      <td>1</td>\n",
       "      <td>1</td>\n",
       "      <td>3</td>\n",
       "      <td>And breathe short-winded accents of new broils</td>\n",
       "    </tr>\n",
       "    <tr>\n",
       "      <th>3</th>\n",
       "      <td>Henry IV</td>\n",
       "      <td>KING HENRY IV</td>\n",
       "      <td>1</td>\n",
       "      <td>1</td>\n",
       "      <td>1</td>\n",
       "      <td>4</td>\n",
       "      <td>To be commenced in strands afar remote.</td>\n",
       "    </tr>\n",
       "    <tr>\n",
       "      <th>4</th>\n",
       "      <td>Henry IV</td>\n",
       "      <td>KING HENRY IV</td>\n",
       "      <td>1</td>\n",
       "      <td>1</td>\n",
       "      <td>1</td>\n",
       "      <td>5</td>\n",
       "      <td>No more the thirsty entrance of this soil</td>\n",
       "    </tr>\n",
       "  </tbody>\n",
       "</table>\n",
       "</div>"
      ],
      "text/plain": [
       "       Play      Character  Act  Scene  Passage  Line_Num  \\\n",
       "0  Henry IV  KING HENRY IV    1      1        1         1   \n",
       "1  Henry IV  KING HENRY IV    1      1        1         2   \n",
       "2  Henry IV  KING HENRY IV    1      1        1         3   \n",
       "3  Henry IV  KING HENRY IV    1      1        1         4   \n",
       "4  Henry IV  KING HENRY IV    1      1        1         5   \n",
       "\n",
       "                                             Line  \n",
       "0          So shaken as we are, so wan with care,  \n",
       "1      Find we a time for frighted peace to pant,  \n",
       "2  And breathe short-winded accents of new broils  \n",
       "3         To be commenced in strands afar remote.  \n",
       "4       No more the thirsty entrance of this soil  "
      ]
     },
     "execution_count": 2,
     "metadata": {},
     "output_type": "execute_result"
    }
   ],
   "source": [
    "df = pd.read_csv('shakespeare.csv')\n",
    "df.head()"
   ]
  },
  {
   "cell_type": "markdown",
   "metadata": {},
   "source": [
    "#### Index\n",
    "We'll use NLTK to do the annoying sentence processing and word stemming"
   ]
  },
  {
   "cell_type": "code",
   "execution_count": 3,
   "metadata": {
    "collapsed": true
   },
   "outputs": [],
   "source": [
    "ps = PorterStemmer()\n",
    "word2idx = defaultdict(list)\n",
    "\n",
    "for row in df.itertuples():\n",
    "    for word in word_tokenize(row.Line): # Decompose the sentence to tokens\n",
    "        if word.isalpha(): # Only add this token it if is a word (i.e., not punctuation)\n",
    "            word2idx[ps.stem(word.lower())].append(row.Index)"
   ]
  },
  {
   "cell_type": "markdown",
   "metadata": {},
   "source": [
    "#### Search\n",
    "Basic search is a simple manner of inputting a key to the index dictionary"
   ]
  },
  {
   "cell_type": "code",
   "execution_count": 4,
   "metadata": {},
   "outputs": [
    {
     "name": "stdout",
     "output_type": "stream",
     "text": [
      "It lends a lustre and more great opinion,\n",
      "He beats thee 'gainst the odds: thy lustre thickens,\n",
      "A lustre to it.\n",
      "That hath not noble lustre in your eyes.\n",
      "Equal in lustre, were now best, now worst,\n",
      "About his neck, yet never lost her lustre;\n",
      "Did lose his lustre: I did hear him groan:\n",
      "Where is thy lustre now?\n",
      "Piercing a hogshead! a good lustre of conceit in a\n",
      "You have added worth unto 't and lustre,\n",
      "The lustre of the better yet to show,\n",
      "The lustre in your eye, heaven in your cheek,\n",
      "Tincture or lustre in her lip, her eye,\n"
     ]
    }
   ],
   "source": [
    "search_term = 'lustre'\n",
    "for idx in word2idx[ps.stem(search_term.lower())]:\n",
    "    print df.loc[idx].Line"
   ]
  },
  {
   "cell_type": "markdown",
   "metadata": {},
   "source": [
    "This can be condensed to a one line function. (Though this is a little clunky.)"
   ]
  },
  {
   "cell_type": "code",
   "execution_count": 5,
   "metadata": {},
   "outputs": [],
   "source": [
    "def search(term):\n",
    "    return df.loc[[idx for idx in word2idx[ps.stem(term.lower())]]]"
   ]
  },
  {
   "cell_type": "markdown",
   "metadata": {},
   "source": [
    "Let's look at some examples:"
   ]
  },
  {
   "cell_type": "code",
   "execution_count": 6,
   "metadata": {},
   "outputs": [
    {
     "data": {
      "text/html": [
       "<div>\n",
       "<style scoped>\n",
       "    .dataframe tbody tr th:only-of-type {\n",
       "        vertical-align: middle;\n",
       "    }\n",
       "\n",
       "    .dataframe tbody tr th {\n",
       "        vertical-align: top;\n",
       "    }\n",
       "\n",
       "    .dataframe thead th {\n",
       "        text-align: right;\n",
       "    }\n",
       "</style>\n",
       "<table border=\"1\" class=\"dataframe\">\n",
       "  <thead>\n",
       "    <tr style=\"text-align: right;\">\n",
       "      <th></th>\n",
       "      <th>Play</th>\n",
       "      <th>Character</th>\n",
       "      <th>Act</th>\n",
       "      <th>Scene</th>\n",
       "      <th>Passage</th>\n",
       "      <th>Line_Num</th>\n",
       "      <th>Line</th>\n",
       "    </tr>\n",
       "  </thead>\n",
       "  <tbody>\n",
       "    <tr>\n",
       "      <th>92501</th>\n",
       "      <td>Titus Andronicus</td>\n",
       "      <td>TITUS ANDRONICUS</td>\n",
       "      <td>4</td>\n",
       "      <td>1</td>\n",
       "      <td>15</td>\n",
       "      <td>48</td>\n",
       "      <td>This is the tragic tale of Philomel,</td>\n",
       "    </tr>\n",
       "    <tr>\n",
       "      <th>79504</th>\n",
       "      <td>Richard III</td>\n",
       "      <td>QUEEN MARGARET</td>\n",
       "      <td>4</td>\n",
       "      <td>4</td>\n",
       "      <td>14</td>\n",
       "      <td>68</td>\n",
       "      <td>And the beholders of this tragic play,</td>\n",
       "    </tr>\n",
       "    <tr>\n",
       "      <th>65007</th>\n",
       "      <td>A Midsummer nights dream</td>\n",
       "      <td>THESEUS</td>\n",
       "      <td>5</td>\n",
       "      <td>1</td>\n",
       "      <td>10</td>\n",
       "      <td>61</td>\n",
       "      <td>Merry and tragical! tedious and brief!</td>\n",
       "    </tr>\n",
       "    <tr>\n",
       "      <th>21120</th>\n",
       "      <td>A Comedy of Errors</td>\n",
       "      <td>AEGEON</td>\n",
       "      <td>1</td>\n",
       "      <td>1</td>\n",
       "      <td>5</td>\n",
       "      <td>64</td>\n",
       "      <td>Gave any tragic instance of our harm:</td>\n",
       "    </tr>\n",
       "    <tr>\n",
       "      <th>79443</th>\n",
       "      <td>Richard III</td>\n",
       "      <td>QUEEN MARGARET</td>\n",
       "      <td>4</td>\n",
       "      <td>4</td>\n",
       "      <td>1</td>\n",
       "      <td>7</td>\n",
       "      <td>Will prove as bitter, black, and tragical.</td>\n",
       "    </tr>\n",
       "    <tr>\n",
       "      <th>65006</th>\n",
       "      <td>A Midsummer nights dream</td>\n",
       "      <td>THESEUS</td>\n",
       "      <td>5</td>\n",
       "      <td>1</td>\n",
       "      <td>10</td>\n",
       "      <td>60</td>\n",
       "      <td>And his love Thisbe; very tragical mirth.'</td>\n",
       "    </tr>\n",
       "  </tbody>\n",
       "</table>\n",
       "</div>"
      ],
      "text/plain": [
       "                           Play         Character  Act  Scene  Passage  \\\n",
       "92501          Titus Andronicus  TITUS ANDRONICUS    4      1       15   \n",
       "79504               Richard III    QUEEN MARGARET    4      4       14   \n",
       "65007  A Midsummer nights dream           THESEUS    5      1       10   \n",
       "21120        A Comedy of Errors            AEGEON    1      1        5   \n",
       "79443               Richard III    QUEEN MARGARET    4      4        1   \n",
       "65006  A Midsummer nights dream           THESEUS    5      1       10   \n",
       "\n",
       "       Line_Num                                        Line  \n",
       "92501        48        This is the tragic tale of Philomel,  \n",
       "79504        68      And the beholders of this tragic play,  \n",
       "65007        61      Merry and tragical! tedious and brief!  \n",
       "21120        64       Gave any tragic instance of our harm:  \n",
       "79443         7  Will prove as bitter, black, and tragical.  \n",
       "65006        60  And his love Thisbe; very tragical mirth.'  "
      ]
     },
     "execution_count": 6,
     "metadata": {},
     "output_type": "execute_result"
    }
   ],
   "source": [
    "search_result = search('Tragic')\n",
    "search_result.sample(6)"
   ]
  },
  {
   "cell_type": "code",
   "execution_count": 7,
   "metadata": {},
   "outputs": [
    {
     "data": {
      "text/html": [
       "<div>\n",
       "<style scoped>\n",
       "    .dataframe tbody tr th:only-of-type {\n",
       "        vertical-align: middle;\n",
       "    }\n",
       "\n",
       "    .dataframe tbody tr th {\n",
       "        vertical-align: top;\n",
       "    }\n",
       "\n",
       "    .dataframe thead th {\n",
       "        text-align: right;\n",
       "    }\n",
       "</style>\n",
       "<table border=\"1\" class=\"dataframe\">\n",
       "  <thead>\n",
       "    <tr style=\"text-align: right;\">\n",
       "      <th></th>\n",
       "      <th>Play</th>\n",
       "      <th>Character</th>\n",
       "      <th>Act</th>\n",
       "      <th>Scene</th>\n",
       "      <th>Passage</th>\n",
       "      <th>Line_Num</th>\n",
       "      <th>Line</th>\n",
       "    </tr>\n",
       "  </thead>\n",
       "  <tbody>\n",
       "    <tr>\n",
       "      <th>19967</th>\n",
       "      <td>Antony and Cleopatra</td>\n",
       "      <td>MARK ANTONY</td>\n",
       "      <td>4</td>\n",
       "      <td>4</td>\n",
       "      <td>10</td>\n",
       "      <td>21</td>\n",
       "      <td>More tight at this than thou: dispatch. O love,</td>\n",
       "    </tr>\n",
       "    <tr>\n",
       "      <th>14222</th>\n",
       "      <td>Alls well that ends well</td>\n",
       "      <td>HELENA</td>\n",
       "      <td>4</td>\n",
       "      <td>4</td>\n",
       "      <td>3</td>\n",
       "      <td>20</td>\n",
       "      <td>To recompense your love: doubt not but heaven</td>\n",
       "    </tr>\n",
       "    <tr>\n",
       "      <th>88776</th>\n",
       "      <td>Timon of Athens</td>\n",
       "      <td>APEMANTUS</td>\n",
       "      <td>1</td>\n",
       "      <td>1</td>\n",
       "      <td>117</td>\n",
       "      <td>253</td>\n",
       "      <td>labour: he that loves to be flattered is worth...</td>\n",
       "    </tr>\n",
       "    <tr>\n",
       "      <th>101004</th>\n",
       "      <td>Two Gentlemen of Verona</td>\n",
       "      <td>DUKE</td>\n",
       "      <td>3</td>\n",
       "      <td>2</td>\n",
       "      <td>22</td>\n",
       "      <td>58</td>\n",
       "      <td>You are already Love's firm votary</td>\n",
       "    </tr>\n",
       "    <tr>\n",
       "      <th>100381</th>\n",
       "      <td>Two Gentlemen of Verona</td>\n",
       "      <td>PROTEUS</td>\n",
       "      <td>2</td>\n",
       "      <td>4</td>\n",
       "      <td>96</td>\n",
       "      <td>205</td>\n",
       "      <td>And that I love him not as I was wont.</td>\n",
       "    </tr>\n",
       "    <tr>\n",
       "      <th>50820</th>\n",
       "      <td>Loves Labours Lost</td>\n",
       "      <td>BIRON</td>\n",
       "      <td>3</td>\n",
       "      <td>1</td>\n",
       "      <td>77</td>\n",
       "      <td>207</td>\n",
       "      <td>What, I! I love! I sue! I seek a wife!</td>\n",
       "    </tr>\n",
       "  </tbody>\n",
       "</table>\n",
       "</div>"
      ],
      "text/plain": [
       "                            Play    Character  Act  Scene  Passage  Line_Num  \\\n",
       "19967       Antony and Cleopatra  MARK ANTONY    4      4       10        21   \n",
       "14222   Alls well that ends well       HELENA    4      4        3        20   \n",
       "88776            Timon of Athens    APEMANTUS    1      1      117       253   \n",
       "101004   Two Gentlemen of Verona         DUKE    3      2       22        58   \n",
       "100381   Two Gentlemen of Verona      PROTEUS    2      4       96       205   \n",
       "50820         Loves Labours Lost        BIRON    3      1       77       207   \n",
       "\n",
       "                                                     Line  \n",
       "19967     More tight at this than thou: dispatch. O love,  \n",
       "14222       To recompense your love: doubt not but heaven  \n",
       "88776   labour: he that loves to be flattered is worth...  \n",
       "101004                 You are already Love's firm votary  \n",
       "100381             And that I love him not as I was wont.  \n",
       "50820              What, I! I love! I sue! I seek a wife!  "
      ]
     },
     "execution_count": 7,
     "metadata": {},
     "output_type": "execute_result"
    }
   ],
   "source": [
    "search_result = search('Love')\n",
    "search_result.sample(6)"
   ]
  }
 ],
 "metadata": {
  "kernelspec": {
   "display_name": "Python [conda env:jupy]",
   "language": "python",
   "name": "conda-env-jupy-py"
  },
  "language_info": {
   "codemirror_mode": {
    "name": "ipython",
    "version": 2
   },
   "file_extension": ".py",
   "mimetype": "text/x-python",
   "name": "python",
   "nbconvert_exporter": "python",
   "pygments_lexer": "ipython2",
   "version": "2.7.13"
  }
 },
 "nbformat": 4,
 "nbformat_minor": 2
}
